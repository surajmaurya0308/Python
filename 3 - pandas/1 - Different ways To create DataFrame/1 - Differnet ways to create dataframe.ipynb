{
 "cells": [
  {
   "cell_type": "code",
   "execution_count": 6,
   "id": "1bd4b210",
   "metadata": {},
   "outputs": [],
   "source": [
    "# import libraries\n",
    "# open cmd \n",
    "# >>> pip install pandas\n",
    "\n",
    "import pandas as pd\n",
    "import numpy as np\n"
   ]
  },
  {
   "cell_type": "code",
   "execution_count": 7,
   "id": "e475fae4",
   "metadata": {},
   "outputs": [],
   "source": [
    "# What is dataFrame \n",
    "\n"
   ]
  },
  {
   "cell_type": "markdown",
   "id": "3d988f0f",
   "metadata": {},
   "source": [
    "# 1 - Dictionary Method "
   ]
  },
  {
   "cell_type": "code",
   "execution_count": 8,
   "id": "bc449cdc",
   "metadata": {},
   "outputs": [
    {
     "data": {
      "text/plain": [
       "{'Days': array(['Monday', 'Tuesday', 'Wednesday', 'Thuresday', 'Friday',\n",
       "        'Saturday', 'Sunday'], dtype='<U9'),\n",
       " 'Temp': array([28, 31, 29, 26, 30, 34, 32]),\n",
       " 'WindSpeed': array([1.5, 2.5, 3.2, 1.6, 0.4, 2.1, 3.4]),\n",
       " 'Events': array(['Sunny', 'Cloudy', 'Rainny', 'Rainny', 'Cloudy', 'Sunny', 'Rainny'],\n",
       "       dtype='<U6')}"
      ]
     },
     "execution_count": 8,
     "metadata": {},
     "output_type": "execute_result"
    }
   ],
   "source": [
    "# create Dictionary \n",
    "\n",
    "Dictionary = {\n",
    "    \"Days\": np.array(['Monday','Tuesday','Wednesday','Thuresday','Friday','Saturday','Sunday']),\n",
    "    \"Temp\": np.array([28 , 31 , 29 , 26 , 30 , 34 , 32]),\n",
    "    \"WindSpeed\":np.array([1.5 , 2.5 ,3.2 ,1.6 , 0.4 , 2.1 , 3.4]),\n",
    "    'Events':np.array([\"Sunny\" , \"Cloudy\" , \"Rainny\" ,\"Rainny\", \"Cloudy\" ,\"Sunny\" , \"Rainny\"])\n",
    "}\n",
    "Dictionary"
   ]
  },
  {
   "cell_type": "code",
   "execution_count": 9,
   "id": "cdf8d447",
   "metadata": {},
   "outputs": [
    {
     "data": {
      "text/html": [
       "<div>\n",
       "<style scoped>\n",
       "    .dataframe tbody tr th:only-of-type {\n",
       "        vertical-align: middle;\n",
       "    }\n",
       "\n",
       "    .dataframe tbody tr th {\n",
       "        vertical-align: top;\n",
       "    }\n",
       "\n",
       "    .dataframe thead th {\n",
       "        text-align: right;\n",
       "    }\n",
       "</style>\n",
       "<table border=\"1\" class=\"dataframe\">\n",
       "  <thead>\n",
       "    <tr style=\"text-align: right;\">\n",
       "      <th></th>\n",
       "      <th>Days</th>\n",
       "      <th>Temp</th>\n",
       "      <th>WindSpeed</th>\n",
       "      <th>Events</th>\n",
       "    </tr>\n",
       "  </thead>\n",
       "  <tbody>\n",
       "    <tr>\n",
       "      <th>0</th>\n",
       "      <td>Monday</td>\n",
       "      <td>28</td>\n",
       "      <td>1.5</td>\n",
       "      <td>Sunny</td>\n",
       "    </tr>\n",
       "    <tr>\n",
       "      <th>1</th>\n",
       "      <td>Tuesday</td>\n",
       "      <td>31</td>\n",
       "      <td>2.5</td>\n",
       "      <td>Cloudy</td>\n",
       "    </tr>\n",
       "    <tr>\n",
       "      <th>2</th>\n",
       "      <td>Wednesday</td>\n",
       "      <td>29</td>\n",
       "      <td>3.2</td>\n",
       "      <td>Rainny</td>\n",
       "    </tr>\n",
       "    <tr>\n",
       "      <th>3</th>\n",
       "      <td>Thuresday</td>\n",
       "      <td>26</td>\n",
       "      <td>1.6</td>\n",
       "      <td>Rainny</td>\n",
       "    </tr>\n",
       "    <tr>\n",
       "      <th>4</th>\n",
       "      <td>Friday</td>\n",
       "      <td>30</td>\n",
       "      <td>0.4</td>\n",
       "      <td>Cloudy</td>\n",
       "    </tr>\n",
       "    <tr>\n",
       "      <th>5</th>\n",
       "      <td>Saturday</td>\n",
       "      <td>34</td>\n",
       "      <td>2.1</td>\n",
       "      <td>Sunny</td>\n",
       "    </tr>\n",
       "    <tr>\n",
       "      <th>6</th>\n",
       "      <td>Sunday</td>\n",
       "      <td>32</td>\n",
       "      <td>3.4</td>\n",
       "      <td>Rainny</td>\n",
       "    </tr>\n",
       "  </tbody>\n",
       "</table>\n",
       "</div>"
      ],
      "text/plain": [
       "        Days  Temp  WindSpeed  Events\n",
       "0     Monday    28        1.5   Sunny\n",
       "1    Tuesday    31        2.5  Cloudy\n",
       "2  Wednesday    29        3.2  Rainny\n",
       "3  Thuresday    26        1.6  Rainny\n",
       "4     Friday    30        0.4  Cloudy\n",
       "5   Saturday    34        2.1   Sunny\n",
       "6     Sunday    32        3.4  Rainny"
      ]
     },
     "execution_count": 9,
     "metadata": {},
     "output_type": "execute_result"
    }
   ],
   "source": [
    "# convert dictionary to DataFrame \n",
    "\n",
    "df = pd.DataFrame(Dictionary)\n",
    "df"
   ]
  },
  {
   "cell_type": "markdown",
   "id": "3792c6be",
   "metadata": {},
   "source": [
    "# 2 - List and tuple method "
   ]
  },
  {
   "cell_type": "code",
   "execution_count": 11,
   "id": "1e4a2c3f",
   "metadata": {},
   "outputs": [
    {
     "data": {
      "text/plain": [
       "[('Monday', 28, 1.5, 'Sunny'),\n",
       " ('Tuesday', 31, 2.5, 'Cloudy'),\n",
       " ('Wednesday', 29, 3.2, 'Rainny'),\n",
       " ('Thuresday', 26, 1.6, 'Rainny'),\n",
       " ('Friday', 30, 0.4, 'Cloudy'),\n",
       " ('Saturday', 34, 2.1, 'Sunny'),\n",
       " ('Sunday', 32, 3.4, 'Rainny')]"
      ]
     },
     "execution_count": 11,
     "metadata": {},
     "output_type": "execute_result"
    }
   ],
   "source": [
    "ls = [\n",
    "    ('Monday' , 28 , 1.5 , 'Sunny'),\n",
    "    ('Tuesday' , 31 , 2.5 , 'Cloudy'),\n",
    "    ('Wednesday' , 29 , 3.2 , 'Rainny'),\n",
    "    ('Thuresday' , 26 , 1.6 , 'Rainny'),\n",
    "    ('Friday' , 30 , 0.4 , 'Cloudy'),\n",
    "    ('Saturday' , 34 , 2.1 , 'Sunny'),\n",
    "    ('Sunday' , 32 , 3.4 , 'Rainny'),\n",
    "]\n",
    "ls"
   ]
  },
  {
   "cell_type": "code",
   "execution_count": 15,
   "id": "2973440f",
   "metadata": {},
   "outputs": [
    {
     "data": {
      "text/html": [
       "<div>\n",
       "<style scoped>\n",
       "    .dataframe tbody tr th:only-of-type {\n",
       "        vertical-align: middle;\n",
       "    }\n",
       "\n",
       "    .dataframe tbody tr th {\n",
       "        vertical-align: top;\n",
       "    }\n",
       "\n",
       "    .dataframe thead th {\n",
       "        text-align: right;\n",
       "    }\n",
       "</style>\n",
       "<table border=\"1\" class=\"dataframe\">\n",
       "  <thead>\n",
       "    <tr style=\"text-align: right;\">\n",
       "      <th></th>\n",
       "      <th>Days</th>\n",
       "      <th>Temp</th>\n",
       "      <th>WindSpeed</th>\n",
       "      <th>Events</th>\n",
       "    </tr>\n",
       "  </thead>\n",
       "  <tbody>\n",
       "    <tr>\n",
       "      <th>0</th>\n",
       "      <td>Monday</td>\n",
       "      <td>28</td>\n",
       "      <td>1.5</td>\n",
       "      <td>Sunny</td>\n",
       "    </tr>\n",
       "    <tr>\n",
       "      <th>1</th>\n",
       "      <td>Tuesday</td>\n",
       "      <td>31</td>\n",
       "      <td>2.5</td>\n",
       "      <td>Cloudy</td>\n",
       "    </tr>\n",
       "    <tr>\n",
       "      <th>2</th>\n",
       "      <td>Wednesday</td>\n",
       "      <td>29</td>\n",
       "      <td>3.2</td>\n",
       "      <td>Rainny</td>\n",
       "    </tr>\n",
       "    <tr>\n",
       "      <th>3</th>\n",
       "      <td>Thuresday</td>\n",
       "      <td>26</td>\n",
       "      <td>1.6</td>\n",
       "      <td>Rainny</td>\n",
       "    </tr>\n",
       "    <tr>\n",
       "      <th>4</th>\n",
       "      <td>Friday</td>\n",
       "      <td>30</td>\n",
       "      <td>0.4</td>\n",
       "      <td>Cloudy</td>\n",
       "    </tr>\n",
       "    <tr>\n",
       "      <th>5</th>\n",
       "      <td>Saturday</td>\n",
       "      <td>34</td>\n",
       "      <td>2.1</td>\n",
       "      <td>Sunny</td>\n",
       "    </tr>\n",
       "    <tr>\n",
       "      <th>6</th>\n",
       "      <td>Sunday</td>\n",
       "      <td>32</td>\n",
       "      <td>3.4</td>\n",
       "      <td>Rainny</td>\n",
       "    </tr>\n",
       "  </tbody>\n",
       "</table>\n",
       "</div>"
      ],
      "text/plain": [
       "        Days  Temp  WindSpeed  Events\n",
       "0     Monday    28        1.5   Sunny\n",
       "1    Tuesday    31        2.5  Cloudy\n",
       "2  Wednesday    29        3.2  Rainny\n",
       "3  Thuresday    26        1.6  Rainny\n",
       "4     Friday    30        0.4  Cloudy\n",
       "5   Saturday    34        2.1   Sunny\n",
       "6     Sunday    32        3.4  Rainny"
      ]
     },
     "execution_count": 15,
     "metadata": {},
     "output_type": "execute_result"
    }
   ],
   "source": [
    "# convert list to DataFrame \n",
    "\n",
    "df1 = pd.DataFrame(data = ls , columns = [\"Days\",'Temp','WindSpeed','Events'])\n",
    "df1"
   ]
  },
  {
   "cell_type": "markdown",
   "id": "ad57910d",
   "metadata": {},
   "source": [
    "# 3 - List and Dictionary method "
   ]
  },
  {
   "cell_type": "code",
   "execution_count": 17,
   "id": "04992966",
   "metadata": {},
   "outputs": [
    {
     "data": {
      "text/plain": [
       "[{'Days': 'Monday', 'Temp': 28, 'WindSpeed': 1.5, 'Events': 'Sunny'},\n",
       " {'Days': 'Tuesday', 'Temp': 31, 'WindSpeed': 2.5, 'Events': 'Cloudy'},\n",
       " {'Days': 'Wednesday', 'Temp': 29, 'WindSpeed': 3.2, 'Events': 'Rainny'},\n",
       " {'Days': 'Thuresday', 'Temp': 26, 'WindSpeed': 1.6, 'Events': 'Rainny'},\n",
       " {'Days': 'Friday', 'Temp': 30, 'WindSpeed': 0.4, 'Events': 'Cloudy'},\n",
       " {'Days': 'Saturday', 'Temp': 34, 'WindSpeed': 2.1, 'Events': 'Rainny'},\n",
       " {'Days': 'Sunday', 'Temp': 32, 'WindSpeed': 3.4, 'Events': 'Sunny'}]"
      ]
     },
     "execution_count": 17,
     "metadata": {},
     "output_type": "execute_result"
    }
   ],
   "source": [
    "# create list with Nested Dictionary\n",
    "\n",
    "ls1 = [\n",
    "    {\"Days\":\"Monday\" , \"Temp\":28 , \"WindSpeed\":1.5 , 'Events':'Sunny'},\n",
    "    {\"Days\":\"Tuesday\" , \"Temp\":31 , \"WindSpeed\":2.5 , 'Events':'Cloudy'},\n",
    "    {\"Days\":\"Wednesday\" , \"Temp\":29 , \"WindSpeed\":3.2 , 'Events':'Rainny'},\n",
    "    {\"Days\":\"Thuresday\" , \"Temp\":26 , \"WindSpeed\":1.6 , 'Events':'Rainny'},\n",
    "    {\"Days\":\"Friday\" , \"Temp\":30 , \"WindSpeed\":0.4 , 'Events':'Cloudy'},\n",
    "    {\"Days\":\"Saturday\" , \"Temp\":34 , \"WindSpeed\":2.1 , 'Events':'Rainny'},\n",
    "    {\"Days\":\"Sunday\" , \"Temp\":32 , \"WindSpeed\":3.4 , 'Events':'Sunny'},\n",
    "]\n",
    "ls1"
   ]
  },
  {
   "cell_type": "code",
   "execution_count": 19,
   "id": "61bd79be",
   "metadata": {},
   "outputs": [
    {
     "data": {
      "text/html": [
       "<div>\n",
       "<style scoped>\n",
       "    .dataframe tbody tr th:only-of-type {\n",
       "        vertical-align: middle;\n",
       "    }\n",
       "\n",
       "    .dataframe tbody tr th {\n",
       "        vertical-align: top;\n",
       "    }\n",
       "\n",
       "    .dataframe thead th {\n",
       "        text-align: right;\n",
       "    }\n",
       "</style>\n",
       "<table border=\"1\" class=\"dataframe\">\n",
       "  <thead>\n",
       "    <tr style=\"text-align: right;\">\n",
       "      <th></th>\n",
       "      <th>Days</th>\n",
       "      <th>Temp</th>\n",
       "      <th>WindSpeed</th>\n",
       "      <th>Events</th>\n",
       "    </tr>\n",
       "  </thead>\n",
       "  <tbody>\n",
       "    <tr>\n",
       "      <th>0</th>\n",
       "      <td>Monday</td>\n",
       "      <td>28</td>\n",
       "      <td>1.5</td>\n",
       "      <td>Sunny</td>\n",
       "    </tr>\n",
       "    <tr>\n",
       "      <th>1</th>\n",
       "      <td>Tuesday</td>\n",
       "      <td>31</td>\n",
       "      <td>2.5</td>\n",
       "      <td>Cloudy</td>\n",
       "    </tr>\n",
       "    <tr>\n",
       "      <th>2</th>\n",
       "      <td>Wednesday</td>\n",
       "      <td>29</td>\n",
       "      <td>3.2</td>\n",
       "      <td>Rainny</td>\n",
       "    </tr>\n",
       "    <tr>\n",
       "      <th>3</th>\n",
       "      <td>Thuresday</td>\n",
       "      <td>26</td>\n",
       "      <td>1.6</td>\n",
       "      <td>Rainny</td>\n",
       "    </tr>\n",
       "    <tr>\n",
       "      <th>4</th>\n",
       "      <td>Friday</td>\n",
       "      <td>30</td>\n",
       "      <td>0.4</td>\n",
       "      <td>Cloudy</td>\n",
       "    </tr>\n",
       "    <tr>\n",
       "      <th>5</th>\n",
       "      <td>Saturday</td>\n",
       "      <td>34</td>\n",
       "      <td>2.1</td>\n",
       "      <td>Rainny</td>\n",
       "    </tr>\n",
       "    <tr>\n",
       "      <th>6</th>\n",
       "      <td>Sunday</td>\n",
       "      <td>32</td>\n",
       "      <td>3.4</td>\n",
       "      <td>Sunny</td>\n",
       "    </tr>\n",
       "  </tbody>\n",
       "</table>\n",
       "</div>"
      ],
      "text/plain": [
       "        Days  Temp  WindSpeed  Events\n",
       "0     Monday    28        1.5   Sunny\n",
       "1    Tuesday    31        2.5  Cloudy\n",
       "2  Wednesday    29        3.2  Rainny\n",
       "3  Thuresday    26        1.6  Rainny\n",
       "4     Friday    30        0.4  Cloudy\n",
       "5   Saturday    34        2.1  Rainny\n",
       "6     Sunday    32        3.4   Sunny"
      ]
     },
     "execution_count": 19,
     "metadata": {},
     "output_type": "execute_result"
    }
   ],
   "source": [
    "# convert list to DataFrame \n",
    "\n",
    "df2 = pd.DataFrame(ls1)\n",
    "df2"
   ]
  },
  {
   "cell_type": "markdown",
   "id": "c5f0c4d2",
   "metadata": {},
   "source": [
    "# 4 - Export the dataframe to csv file "
   ]
  },
  {
   "cell_type": "code",
   "execution_count": 21,
   "id": "db5ad5c2",
   "metadata": {},
   "outputs": [],
   "source": [
    "df.to_csv('weather_data.csv' , index = False)"
   ]
  },
  {
   "cell_type": "markdown",
   "id": "36cf646b",
   "metadata": {},
   "source": [
    "# 5 -  create dataFrame using csv file \n"
   ]
  },
  {
   "cell_type": "code",
   "execution_count": 22,
   "id": "30f49bb8",
   "metadata": {},
   "outputs": [
    {
     "data": {
      "text/html": [
       "<div>\n",
       "<style scoped>\n",
       "    .dataframe tbody tr th:only-of-type {\n",
       "        vertical-align: middle;\n",
       "    }\n",
       "\n",
       "    .dataframe tbody tr th {\n",
       "        vertical-align: top;\n",
       "    }\n",
       "\n",
       "    .dataframe thead th {\n",
       "        text-align: right;\n",
       "    }\n",
       "</style>\n",
       "<table border=\"1\" class=\"dataframe\">\n",
       "  <thead>\n",
       "    <tr style=\"text-align: right;\">\n",
       "      <th></th>\n",
       "      <th>Days</th>\n",
       "      <th>Temp</th>\n",
       "      <th>WindSpeed</th>\n",
       "      <th>Events</th>\n",
       "    </tr>\n",
       "  </thead>\n",
       "  <tbody>\n",
       "    <tr>\n",
       "      <th>0</th>\n",
       "      <td>Monday</td>\n",
       "      <td>28</td>\n",
       "      <td>1.5</td>\n",
       "      <td>Sunny</td>\n",
       "    </tr>\n",
       "    <tr>\n",
       "      <th>1</th>\n",
       "      <td>Tuesday</td>\n",
       "      <td>31</td>\n",
       "      <td>2.5</td>\n",
       "      <td>Cloudy</td>\n",
       "    </tr>\n",
       "    <tr>\n",
       "      <th>2</th>\n",
       "      <td>Wednesday</td>\n",
       "      <td>29</td>\n",
       "      <td>3.2</td>\n",
       "      <td>Rainny</td>\n",
       "    </tr>\n",
       "    <tr>\n",
       "      <th>3</th>\n",
       "      <td>Thuresday</td>\n",
       "      <td>26</td>\n",
       "      <td>1.6</td>\n",
       "      <td>Rainny</td>\n",
       "    </tr>\n",
       "    <tr>\n",
       "      <th>4</th>\n",
       "      <td>Friday</td>\n",
       "      <td>30</td>\n",
       "      <td>0.4</td>\n",
       "      <td>Cloudy</td>\n",
       "    </tr>\n",
       "    <tr>\n",
       "      <th>5</th>\n",
       "      <td>Saturday</td>\n",
       "      <td>34</td>\n",
       "      <td>2.1</td>\n",
       "      <td>Sunny</td>\n",
       "    </tr>\n",
       "    <tr>\n",
       "      <th>6</th>\n",
       "      <td>Sunday</td>\n",
       "      <td>32</td>\n",
       "      <td>3.4</td>\n",
       "      <td>Rainny</td>\n",
       "    </tr>\n",
       "  </tbody>\n",
       "</table>\n",
       "</div>"
      ],
      "text/plain": [
       "        Days  Temp  WindSpeed  Events\n",
       "0     Monday    28        1.5   Sunny\n",
       "1    Tuesday    31        2.5  Cloudy\n",
       "2  Wednesday    29        3.2  Rainny\n",
       "3  Thuresday    26        1.6  Rainny\n",
       "4     Friday    30        0.4  Cloudy\n",
       "5   Saturday    34        2.1   Sunny\n",
       "6     Sunday    32        3.4  Rainny"
      ]
     },
     "execution_count": 22,
     "metadata": {},
     "output_type": "execute_result"
    }
   ],
   "source": [
    "# create dataframe using csv file \n",
    "\n",
    "# when jupyter file and csv file in same path\n",
    "\n",
    "df3 = pd.read_csv('weather_data.csv')\n",
    "df3"
   ]
  },
  {
   "cell_type": "code",
   "execution_count": 23,
   "id": "8534793d",
   "metadata": {},
   "outputs": [
    {
     "data": {
      "text/html": [
       "<div>\n",
       "<style scoped>\n",
       "    .dataframe tbody tr th:only-of-type {\n",
       "        vertical-align: middle;\n",
       "    }\n",
       "\n",
       "    .dataframe tbody tr th {\n",
       "        vertical-align: top;\n",
       "    }\n",
       "\n",
       "    .dataframe thead th {\n",
       "        text-align: right;\n",
       "    }\n",
       "</style>\n",
       "<table border=\"1\" class=\"dataframe\">\n",
       "  <thead>\n",
       "    <tr style=\"text-align: right;\">\n",
       "      <th></th>\n",
       "      <th>Days</th>\n",
       "      <th>Temp</th>\n",
       "      <th>WindSpeed</th>\n",
       "      <th>Events</th>\n",
       "    </tr>\n",
       "  </thead>\n",
       "  <tbody>\n",
       "    <tr>\n",
       "      <th>0</th>\n",
       "      <td>Monday</td>\n",
       "      <td>28</td>\n",
       "      <td>1.5</td>\n",
       "      <td>Sunny</td>\n",
       "    </tr>\n",
       "    <tr>\n",
       "      <th>1</th>\n",
       "      <td>Tuesday</td>\n",
       "      <td>31</td>\n",
       "      <td>2.5</td>\n",
       "      <td>Cloudy</td>\n",
       "    </tr>\n",
       "    <tr>\n",
       "      <th>2</th>\n",
       "      <td>Wednesday</td>\n",
       "      <td>29</td>\n",
       "      <td>3.2</td>\n",
       "      <td>Rainny</td>\n",
       "    </tr>\n",
       "    <tr>\n",
       "      <th>3</th>\n",
       "      <td>Thuresday</td>\n",
       "      <td>26</td>\n",
       "      <td>1.6</td>\n",
       "      <td>Rainny</td>\n",
       "    </tr>\n",
       "    <tr>\n",
       "      <th>4</th>\n",
       "      <td>Friday</td>\n",
       "      <td>30</td>\n",
       "      <td>0.4</td>\n",
       "      <td>Cloudy</td>\n",
       "    </tr>\n",
       "    <tr>\n",
       "      <th>5</th>\n",
       "      <td>Saturday</td>\n",
       "      <td>34</td>\n",
       "      <td>2.1</td>\n",
       "      <td>Sunny</td>\n",
       "    </tr>\n",
       "    <tr>\n",
       "      <th>6</th>\n",
       "      <td>Sunday</td>\n",
       "      <td>32</td>\n",
       "      <td>3.4</td>\n",
       "      <td>Rainny</td>\n",
       "    </tr>\n",
       "  </tbody>\n",
       "</table>\n",
       "</div>"
      ],
      "text/plain": [
       "        Days  Temp  WindSpeed  Events\n",
       "0     Monday    28        1.5   Sunny\n",
       "1    Tuesday    31        2.5  Cloudy\n",
       "2  Wednesday    29        3.2  Rainny\n",
       "3  Thuresday    26        1.6  Rainny\n",
       "4     Friday    30        0.4  Cloudy\n",
       "5   Saturday    34        2.1   Sunny\n",
       "6     Sunday    32        3.4  Rainny"
      ]
     },
     "execution_count": 23,
     "metadata": {},
     "output_type": "execute_result"
    }
   ],
   "source": [
    "# when jupyter file and csv file in different path\n",
    "\n",
    "df4 = pd.read_csv(r'C:\\Users\\Ultron\\Desktop\\1 to 3  ML\\2 - Preprocessing\\3 - pandas\\1 - Different ways To create DataFrame\\weather_data.csv')\n",
    "df4"
   ]
  },
  {
   "cell_type": "code",
   "execution_count": null,
   "id": "acda12fc",
   "metadata": {},
   "outputs": [],
   "source": []
  }
 ],
 "metadata": {
  "kernelspec": {
   "display_name": "Python 3",
   "language": "python",
   "name": "python3"
  },
  "language_info": {
   "codemirror_mode": {
    "name": "ipython",
    "version": 3
   },
   "file_extension": ".py",
   "mimetype": "text/x-python",
   "name": "python",
   "nbconvert_exporter": "python",
   "pygments_lexer": "ipython3",
   "version": "3.8.4"
  }
 },
 "nbformat": 4,
 "nbformat_minor": 5
}
