{
 "cells": [
  {
   "cell_type": "code",
   "execution_count": 49,
   "id": "7f9957a9",
   "metadata": {},
   "outputs": [],
   "source": [
    "import numpy as np \n",
    "import time\n"
   ]
  },
  {
   "cell_type": "code",
   "execution_count": 50,
   "id": "72d38376",
   "metadata": {},
   "outputs": [],
   "source": [
    "size = 1000000\n"
   ]
  },
  {
   "cell_type": "code",
   "execution_count": 51,
   "id": "ab43aa9a",
   "metadata": {},
   "outputs": [],
   "source": [
    "# list\n",
    "l1 = [i for i in range(size)]\n",
    "l2 = [i for i in range(size)]"
   ]
  },
  {
   "cell_type": "code",
   "execution_count": 52,
   "id": "716cd966",
   "metadata": {},
   "outputs": [],
   "source": [
    "# create array \n",
    "\n",
    "a1 = np.arange(size)\n",
    "a2 = np.arange(size)"
   ]
  },
  {
   "cell_type": "code",
   "execution_count": 53,
   "id": "4ef321b2",
   "metadata": {},
   "outputs": [
    {
     "name": "stdout",
     "output_type": "stream",
     "text": [
      "133.91709327697754\n"
     ]
    }
   ],
   "source": [
    "# list operation \n",
    "\n",
    "start_time = time.time()\n",
    "\n",
    "result = [x+y for x,y in zip(l1,l2)]\n",
    "\n",
    "finish_time = (time.time() - start_time)*1000\n",
    "print(finish_time)\n"
   ]
  },
  {
   "cell_type": "code",
   "execution_count": 54,
   "id": "0dd71319",
   "metadata": {},
   "outputs": [
    {
     "name": "stdout",
     "output_type": "stream",
     "text": [
      "2.9985904693603516\n"
     ]
    }
   ],
   "source": [
    "# array Operation \n",
    "\n",
    "start = time.time()\n",
    "\n",
    "result_1 = a1 + a2\n",
    "\n",
    "finish =(time.time() - start)*1000\n",
    "print(finish)"
   ]
  }
 ],
 "metadata": {
  "kernelspec": {
   "display_name": "Python 3",
   "language": "python",
   "name": "python3"
  },
  "language_info": {
   "codemirror_mode": {
    "name": "ipython",
    "version": 3
   },
   "file_extension": ".py",
   "mimetype": "text/x-python",
   "name": "python",
   "nbconvert_exporter": "python",
   "pygments_lexer": "ipython3",
   "version": "3.8.4"
  }
 },
 "nbformat": 4,
 "nbformat_minor": 5
}
