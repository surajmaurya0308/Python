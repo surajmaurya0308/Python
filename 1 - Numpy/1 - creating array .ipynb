{
 "cells": [
  {
   "cell_type": "markdown",
   "id": "0ae0c6ac",
   "metadata": {},
   "source": [
    "# 1 - Creating array \n"
   ]
  },
  {
   "cell_type": "code",
   "execution_count": 1,
   "id": "530e459f",
   "metadata": {},
   "outputs": [],
   "source": [
    "import numpy as np "
   ]
  },
  {
   "cell_type": "code",
   "execution_count": 2,
   "id": "63b2c124",
   "metadata": {
    "scrolled": true
   },
   "outputs": [
    {
     "data": {
      "text/plain": [
       "array([1, 2, 3, 4, 5, 6, 7, 8])"
      ]
     },
     "execution_count": 2,
     "metadata": {},
     "output_type": "execute_result"
    }
   ],
   "source": [
    "# 1D array \n",
    "\n",
    "arr_1 = np.array([1,2,3,4,5,6,7,8])\n",
    "arr_1\n"
   ]
  },
  {
   "cell_type": "code",
   "execution_count": 3,
   "id": "2cb8b773",
   "metadata": {},
   "outputs": [
    {
     "data": {
      "text/plain": [
       "(8,)"
      ]
     },
     "execution_count": 3,
     "metadata": {},
     "output_type": "execute_result"
    }
   ],
   "source": [
    "# shape\n",
    "\n",
    "arr_1.shape"
   ]
  },
  {
   "cell_type": "code",
   "execution_count": 5,
   "id": "3a03b65f",
   "metadata": {},
   "outputs": [
    {
     "data": {
      "text/plain": [
       "1"
      ]
     },
     "execution_count": 5,
     "metadata": {},
     "output_type": "execute_result"
    }
   ],
   "source": [
    "# dimension \n",
    "arr_1.ndim"
   ]
  },
  {
   "cell_type": "markdown",
   "id": "57681f1e",
   "metadata": {},
   "source": [
    "# 2D array"
   ]
  },
  {
   "cell_type": "code",
   "execution_count": 6,
   "id": "99001288",
   "metadata": {},
   "outputs": [],
   "source": [
    "#  creating 2 Dimenional array"
   ]
  },
  {
   "cell_type": "code",
   "execution_count": 8,
   "id": "643f49aa",
   "metadata": {},
   "outputs": [
    {
     "data": {
      "text/plain": [
       "array([[ 1,  2,  3,  4],\n",
       "       [ 5,  6,  7,  8],\n",
       "       [ 9, 10, 11, 12]])"
      ]
     },
     "execution_count": 8,
     "metadata": {},
     "output_type": "execute_result"
    }
   ],
   "source": [
    "arr_2 = np.array([[1,2,3,4],\n",
    "                  [5,6,7,8],\n",
    "                  [9,10,11,12]])\n",
    "arr_2"
   ]
  },
  {
   "cell_type": "code",
   "execution_count": 9,
   "id": "b803ab44",
   "metadata": {},
   "outputs": [
    {
     "data": {
      "text/plain": [
       "2"
      ]
     },
     "execution_count": 9,
     "metadata": {},
     "output_type": "execute_result"
    }
   ],
   "source": [
    "# dimension of array\n",
    "\n",
    "arr_2.ndim"
   ]
  },
  {
   "cell_type": "code",
   "execution_count": 10,
   "id": "44844276",
   "metadata": {},
   "outputs": [
    {
     "data": {
      "text/plain": [
       "(3, 4)"
      ]
     },
     "execution_count": 10,
     "metadata": {},
     "output_type": "execute_result"
    }
   ],
   "source": [
    "arr_2.shape"
   ]
  },
  {
   "cell_type": "markdown",
   "id": "5fb6c3bf",
   "metadata": {},
   "source": [
    "\n",
    "# 3D array"
   ]
  },
  {
   "cell_type": "code",
   "execution_count": 12,
   "id": "b0c9c289",
   "metadata": {},
   "outputs": [
    {
     "data": {
      "text/plain": [
       "array([[[1, 2, 3],\n",
       "        [1, 2, 3],\n",
       "        [1, 2, 3]],\n",
       "\n",
       "       [[1, 2, 3],\n",
       "        [1, 2, 3],\n",
       "        [1, 2, 3]],\n",
       "\n",
       "       [[1, 2, 3],\n",
       "        [1, 2, 3],\n",
       "        [1, 2, 3]]])"
      ]
     },
     "execution_count": 12,
     "metadata": {},
     "output_type": "execute_result"
    }
   ],
   "source": [
    "arr_3 = np.array([\n",
    "    [[1,2,3],[1,2,3],[1,2,3]],\n",
    "    [[1,2,3],[1,2,3],[1,2,3]],\n",
    "    [[1,2,3],[1,2,3],[1,2,3]]\n",
    "])\n",
    "arr_3"
   ]
  },
  {
   "cell_type": "code",
   "execution_count": 13,
   "id": "7658565c",
   "metadata": {},
   "outputs": [
    {
     "data": {
      "text/plain": [
       "(3, 3, 3)"
      ]
     },
     "execution_count": 13,
     "metadata": {},
     "output_type": "execute_result"
    }
   ],
   "source": [
    "arr_3.shape"
   ]
  },
  {
   "cell_type": "markdown",
   "id": "81adf4e9",
   "metadata": {},
   "source": [
    "# create array using methods \n"
   ]
  },
  {
   "cell_type": "code",
   "execution_count": 14,
   "id": "798cdeba",
   "metadata": {},
   "outputs": [
    {
     "data": {
      "text/plain": [
       "array([ 1,  2,  3,  4,  5,  6,  7,  8,  9, 10])"
      ]
     },
     "execution_count": 14,
     "metadata": {},
     "output_type": "execute_result"
    }
   ],
   "source": [
    "#1 -  arange(p1,p2,p3)\n",
    "# create range of array \n",
    "\n",
    "a = np.arange(1 , 11)\n",
    "a"
   ]
  },
  {
   "cell_type": "code",
   "execution_count": 15,
   "id": "5dfac408",
   "metadata": {},
   "outputs": [
    {
     "data": {
      "text/plain": [
       "array([ 1,  3,  5,  7,  9, 11, 13, 15, 17, 19])"
      ]
     },
     "execution_count": 15,
     "metadata": {},
     "output_type": "execute_result"
    }
   ],
   "source": [
    "a = np.arange(1 , 21,2)\n",
    "a"
   ]
  },
  {
   "cell_type": "code",
   "execution_count": 16,
   "id": "faab4050",
   "metadata": {},
   "outputs": [
    {
     "data": {
      "text/plain": [
       "array([[0., 0., 0., 0.],\n",
       "       [0., 0., 0., 0.],\n",
       "       [0., 0., 0., 0.]])"
      ]
     },
     "execution_count": 16,
     "metadata": {},
     "output_type": "execute_result"
    }
   ],
   "source": [
    "# 2 - zeros mehod \n",
    "\n",
    "\n",
    "b = np.zeros((3,4))\n",
    "b\n"
   ]
  },
  {
   "cell_type": "code",
   "execution_count": 19,
   "id": "76c148f1",
   "metadata": {},
   "outputs": [
    {
     "data": {
      "text/plain": [
       "numpy.float64"
      ]
     },
     "execution_count": 19,
     "metadata": {},
     "output_type": "execute_result"
    }
   ],
   "source": [
    "type(b[0][0])"
   ]
  },
  {
   "cell_type": "code",
   "execution_count": 22,
   "id": "8df5f1e5",
   "metadata": {},
   "outputs": [
    {
     "data": {
      "text/plain": [
       "array([[0, 0, 0, 0],\n",
       "       [0, 0, 0, 0],\n",
       "       [0, 0, 0, 0]], dtype=int64)"
      ]
     },
     "execution_count": 22,
     "metadata": {},
     "output_type": "execute_result"
    }
   ],
   "source": [
    "b = np.zeros((3,4),dtype = np.int64)\n",
    "b"
   ]
  },
  {
   "cell_type": "code",
   "execution_count": 25,
   "id": "a863a85a",
   "metadata": {},
   "outputs": [
    {
     "data": {
      "text/plain": [
       "numpy.int64"
      ]
     },
     "execution_count": 25,
     "metadata": {},
     "output_type": "execute_result"
    }
   ],
   "source": [
    "type(b[0][0])"
   ]
  },
  {
   "cell_type": "code",
   "execution_count": 26,
   "id": "10645575",
   "metadata": {},
   "outputs": [
    {
     "data": {
      "text/plain": [
       "array([[1., 1., 1.],\n",
       "       [1., 1., 1.],\n",
       "       [1., 1., 1.]])"
      ]
     },
     "execution_count": 26,
     "metadata": {},
     "output_type": "execute_result"
    }
   ],
   "source": [
    "# 3 - ones method \n",
    "\n",
    "c = np.ones((3,3))\n",
    "c"
   ]
  },
  {
   "cell_type": "code",
   "execution_count": 29,
   "id": "e1089ea5",
   "metadata": {},
   "outputs": [
    {
     "data": {
      "text/plain": [
       "numpy.float64"
      ]
     },
     "execution_count": 29,
     "metadata": {},
     "output_type": "execute_result"
    }
   ],
   "source": [
    "type(c[0][0])"
   ]
  },
  {
   "cell_type": "code",
   "execution_count": 30,
   "id": "3e8fe0ac",
   "metadata": {},
   "outputs": [],
   "source": [
    "c = np.ones((3,3),dtype = np.int16)"
   ]
  },
  {
   "cell_type": "code",
   "execution_count": 31,
   "id": "f536d81f",
   "metadata": {},
   "outputs": [
    {
     "data": {
      "text/plain": [
       "array([[1, 1, 1],\n",
       "       [1, 1, 1],\n",
       "       [1, 1, 1]], dtype=int16)"
      ]
     },
     "execution_count": 31,
     "metadata": {},
     "output_type": "execute_result"
    }
   ],
   "source": [
    "c"
   ]
  },
  {
   "cell_type": "code",
   "execution_count": 35,
   "id": "2ce6a1f8",
   "metadata": {},
   "outputs": [
    {
     "data": {
      "text/plain": [
       "array([0., 0., 0., 0., 0., 0., 0., 0.])"
      ]
     },
     "execution_count": 35,
     "metadata": {},
     "output_type": "execute_result"
    }
   ],
   "source": [
    "c = np.zeros((8,))\n",
    "c"
   ]
  },
  {
   "cell_type": "code",
   "execution_count": 37,
   "id": "5f550651",
   "metadata": {},
   "outputs": [
    {
     "data": {
      "text/plain": [
       "array([[[0., 0., 0.],\n",
       "        [0., 0., 0.],\n",
       "        [0., 0., 0.]],\n",
       "\n",
       "       [[0., 0., 0.],\n",
       "        [0., 0., 0.],\n",
       "        [0., 0., 0.]],\n",
       "\n",
       "       [[0., 0., 0.],\n",
       "        [0., 0., 0.],\n",
       "        [0., 0., 0.]]])"
      ]
     },
     "execution_count": 37,
     "metadata": {},
     "output_type": "execute_result"
    }
   ],
   "source": [
    "c = np.zeros((3,3,3))\n",
    "c"
   ]
  },
  {
   "cell_type": "markdown",
   "id": "9344a7b4",
   "metadata": {},
   "source": [
    "# 3 - Getting info of arrays"
   ]
  },
  {
   "cell_type": "code",
   "execution_count": 39,
   "id": "2512d2e7",
   "metadata": {},
   "outputs": [
    {
     "data": {
      "text/plain": [
       "array([1, 2, 3, 4, 5, 6, 7, 8])"
      ]
     },
     "execution_count": 39,
     "metadata": {},
     "output_type": "execute_result"
    }
   ],
   "source": [
    "arr_1"
   ]
  },
  {
   "cell_type": "code",
   "execution_count": 38,
   "id": "70ee7fce",
   "metadata": {},
   "outputs": [
    {
     "data": {
      "text/plain": [
       "array([[ 1,  2,  3,  4],\n",
       "       [ 5,  6,  7,  8],\n",
       "       [ 9, 10, 11, 12]])"
      ]
     },
     "execution_count": 38,
     "metadata": {},
     "output_type": "execute_result"
    }
   ],
   "source": [
    "arr_2"
   ]
  },
  {
   "cell_type": "code",
   "execution_count": 40,
   "id": "65e49cb0",
   "metadata": {},
   "outputs": [
    {
     "data": {
      "text/plain": [
       "array([[[1, 2, 3],\n",
       "        [1, 2, 3],\n",
       "        [1, 2, 3]],\n",
       "\n",
       "       [[1, 2, 3],\n",
       "        [1, 2, 3],\n",
       "        [1, 2, 3]],\n",
       "\n",
       "       [[1, 2, 3],\n",
       "        [1, 2, 3],\n",
       "        [1, 2, 3]]])"
      ]
     },
     "execution_count": 40,
     "metadata": {},
     "output_type": "execute_result"
    }
   ],
   "source": [
    "arr_3"
   ]
  },
  {
   "cell_type": "code",
   "execution_count": 41,
   "id": "c96c6d19",
   "metadata": {},
   "outputs": [
    {
     "name": "stdout",
     "output_type": "stream",
     "text": [
      "arr_1 array dimension : 1\n",
      "arr_2 array dimension : 2\n",
      "arr_3 array dimension : 3\n"
     ]
    }
   ],
   "source": [
    "# Dimesion of array \n",
    "\n",
    "print(f\"arr_1 array dimension : {arr_1.ndim}\")\n",
    "print(f\"arr_2 array dimension : {arr_2.ndim}\")\n",
    "print(f\"arr_3 array dimension : {arr_3.ndim}\")"
   ]
  },
  {
   "cell_type": "code",
   "execution_count": 42,
   "id": "c3113e7d",
   "metadata": {},
   "outputs": [
    {
     "name": "stdout",
     "output_type": "stream",
     "text": [
      "arr_1 array shape : (8,)\n",
      "arr_2 array shape : (3, 4)\n",
      "arr_3 array shape : (3, 3, 3)\n"
     ]
    }
   ],
   "source": [
    "# shape of array \n",
    "\n",
    "\n",
    "print(f\"arr_1 array shape : {arr_1.shape}\")\n",
    "print(f\"arr_2 array shape : {arr_2.shape}\")\n",
    "print(f\"arr_3 array shape : {arr_3.shape}\")"
   ]
  },
  {
   "cell_type": "code",
   "execution_count": 46,
   "id": "1e209e04",
   "metadata": {},
   "outputs": [
    {
     "name": "stdout",
     "output_type": "stream",
     "text": [
      "4\n",
      "4\n",
      "4\n"
     ]
    }
   ],
   "source": [
    "# size of each element in array \n",
    "\n",
    "\n",
    "print(arr_1.itemsize)  # int data \n",
    "print(arr_2.itemsize)  # int data \n",
    "print(arr_3.itemsize)  # int data "
   ]
  },
  {
   "cell_type": "code",
   "execution_count": 47,
   "id": "b8794b9e",
   "metadata": {},
   "outputs": [
    {
     "name": "stdout",
     "output_type": "stream",
     "text": [
      "8\n",
      "12\n",
      "27\n"
     ]
    }
   ],
   "source": [
    "# check size of element in array \n",
    "\n",
    "print(arr_1.size)  \n",
    "print(arr_2.size)   \n",
    "print(arr_3.size)  "
   ]
  },
  {
   "cell_type": "code",
   "execution_count": 48,
   "id": "a9c9387a",
   "metadata": {},
   "outputs": [
    {
     "name": "stdout",
     "output_type": "stream",
     "text": [
      "1\n",
      "1\n",
      "1\n"
     ]
    }
   ],
   "source": [
    "# find minimum value\n",
    "\n",
    "print(arr_1.min())\n",
    "print(arr_2.min())\n",
    "print(arr_3.min())"
   ]
  },
  {
   "cell_type": "code",
   "execution_count": 49,
   "id": "30b1828e",
   "metadata": {},
   "outputs": [
    {
     "name": "stdout",
     "output_type": "stream",
     "text": [
      "8\n",
      "12\n",
      "3\n"
     ]
    }
   ],
   "source": [
    "# find Maximum value\n",
    "\n",
    "print(arr_1.max())\n",
    "print(arr_2.max())\n",
    "print(arr_3.max())"
   ]
  },
  {
   "cell_type": "code",
   "execution_count": 50,
   "id": "453cc99a",
   "metadata": {},
   "outputs": [
    {
     "name": "stdout",
     "output_type": "stream",
     "text": [
      "36\n"
     ]
    }
   ],
   "source": [
    "# sum function \n",
    "\n",
    "\n",
    "print(arr_1.sum())\n"
   ]
  },
  {
   "cell_type": "code",
   "execution_count": 51,
   "id": "76aea045",
   "metadata": {},
   "outputs": [
    {
     "name": "stdout",
     "output_type": "stream",
     "text": [
      "78\n"
     ]
    }
   ],
   "source": [
    "print(arr_2.sum())"
   ]
  },
  {
   "cell_type": "code",
   "execution_count": 53,
   "id": "f45bfe9e",
   "metadata": {},
   "outputs": [
    {
     "name": "stdout",
     "output_type": "stream",
     "text": [
      "[15 18 21 24]\n",
      "[10 26 42]\n"
     ]
    }
   ],
   "source": [
    "# sum of rows and sum of columns \n",
    "# in numpy axis = 0 for columns \n",
    "# in numpy axis = 1 for rows \n",
    "\n",
    "print(arr_2.sum(axis = 0))\n",
    "print(arr_2.sum(axis = 1))"
   ]
  },
  {
   "cell_type": "code",
   "execution_count": 54,
   "id": "93f59567",
   "metadata": {},
   "outputs": [
    {
     "name": "stdout",
     "output_type": "stream",
     "text": [
      "4.5\n",
      "6.5\n",
      "2.0\n"
     ]
    }
   ],
   "source": [
    "# find mean value\n",
    "\n",
    "print(arr_1.mean())\n",
    "print(arr_2.mean())\n",
    "print(arr_3.mean())"
   ]
  },
  {
   "cell_type": "code",
   "execution_count": null,
   "id": "66d31243",
   "metadata": {},
   "outputs": [],
   "source": []
  }
 ],
 "metadata": {
  "kernelspec": {
   "display_name": "Python 3",
   "language": "python",
   "name": "python3"
  },
  "language_info": {
   "codemirror_mode": {
    "name": "ipython",
    "version": 3
   },
   "file_extension": ".py",
   "mimetype": "text/x-python",
   "name": "python",
   "nbconvert_exporter": "python",
   "pygments_lexer": "ipython3",
   "version": "3.8.4"
  }
 },
 "nbformat": 4,
 "nbformat_minor": 5
}
