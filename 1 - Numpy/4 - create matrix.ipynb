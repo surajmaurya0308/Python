{
 "cells": [
  {
   "cell_type": "code",
   "execution_count": 88,
   "id": "bba91857",
   "metadata": {},
   "outputs": [],
   "source": [
    "import numpy as np"
   ]
  },
  {
   "cell_type": "code",
   "execution_count": 89,
   "id": "5e8f7964",
   "metadata": {},
   "outputs": [
    {
     "data": {
      "text/plain": [
       "matrix([[1, 2, 3],\n",
       "        [4, 5, 6]])"
      ]
     },
     "execution_count": 89,
     "metadata": {},
     "output_type": "execute_result"
    }
   ],
   "source": [
    "# create matrics \n",
    "\n",
    "m1 = np.matrix(\"1,2,3;4,5,6\")\n",
    "m1"
   ]
  },
  {
   "cell_type": "code",
   "execution_count": 90,
   "id": "32680b7f",
   "metadata": {},
   "outputs": [
    {
     "data": {
      "text/plain": [
       "matrix([[ 7,  8,  9],\n",
       "        [12, 15, 13]])"
      ]
     },
     "execution_count": 90,
     "metadata": {},
     "output_type": "execute_result"
    }
   ],
   "source": [
    "m2 = np.matrix(\"7,8,9;12,15,13\")\n",
    "m2"
   ]
  },
  {
   "cell_type": "code",
   "execution_count": 91,
   "id": "599b5c8d",
   "metadata": {},
   "outputs": [
    {
     "data": {
      "text/plain": [
       "matrix([[ 8, 10, 12],\n",
       "        [16, 20, 19]])"
      ]
     },
     "execution_count": 91,
     "metadata": {},
     "output_type": "execute_result"
    }
   ],
   "source": [
    "#  matrix operation \n",
    "# addition \n",
    "\n",
    "add = m1 + m2\n",
    "add"
   ]
  },
  {
   "cell_type": "code",
   "execution_count": 92,
   "id": "113b9850",
   "metadata": {},
   "outputs": [
    {
     "data": {
      "text/plain": [
       "matrix([[ -6,  -6,  -6],\n",
       "        [ -8, -10,  -7]])"
      ]
     },
     "execution_count": 92,
     "metadata": {},
     "output_type": "execute_result"
    }
   ],
   "source": [
    "# substraction \n",
    "\n",
    "sub = m1 - m2\n",
    "sub"
   ]
  },
  {
   "cell_type": "code",
   "execution_count": 93,
   "id": "51649631",
   "metadata": {},
   "outputs": [
    {
     "data": {
      "text/plain": [
       "matrix([[0.14285714, 0.25      , 0.33333333],\n",
       "        [0.33333333, 0.33333333, 0.46153846]])"
      ]
     },
     "execution_count": 93,
     "metadata": {},
     "output_type": "execute_result"
    }
   ],
   "source": [
    "# division \n",
    "\n",
    "div = m1 / m2\n",
    "div"
   ]
  },
  {
   "cell_type": "code",
   "execution_count": 94,
   "id": "50ca2afd",
   "metadata": {},
   "outputs": [
    {
     "name": "stdout",
     "output_type": "stream",
     "text": [
      "[[ 7  8  9]\n",
      " [12 15 13]] \n",
      "\n",
      "[[ 7 12]\n",
      " [ 8 15]\n",
      " [ 9 13]]\n"
     ]
    }
   ],
   "source": [
    "# transpose the matrix \n",
    "\n",
    "print(m2,\"\\n\")\n",
    "\n",
    "# method 1\n",
    "\n",
    "m_2 = np.transpose(m2)\n",
    "print(m_2)"
   ]
  },
  {
   "cell_type": "code",
   "execution_count": 95,
   "id": "e4f09b2d",
   "metadata": {},
   "outputs": [
    {
     "name": "stdout",
     "output_type": "stream",
     "text": [
      "[[ 7 12]\n",
      " [ 8 15]\n",
      " [ 9 13]]\n"
     ]
    }
   ],
   "source": [
    "# method 2\n",
    "\n",
    "m2 = m2.T\n",
    "print(m2)"
   ]
  },
  {
   "cell_type": "code",
   "execution_count": 96,
   "id": "946fe795",
   "metadata": {},
   "outputs": [
    {
     "data": {
      "text/plain": [
       "matrix([[ 50,  81],\n",
       "        [122, 201]])"
      ]
     },
     "execution_count": 96,
     "metadata": {},
     "output_type": "execute_result"
    }
   ],
   "source": [
    "# multiplication \n",
    "\n",
    "mul = m1 * m2\n",
    "mul"
   ]
  },
  {
   "cell_type": "markdown",
   "id": "7ed3ab61",
   "metadata": {},
   "source": [
    "# Stack "
   ]
  },
  {
   "cell_type": "code",
   "execution_count": 97,
   "id": "f64fbc79",
   "metadata": {},
   "outputs": [
    {
     "name": "stdout",
     "output_type": "stream",
     "text": [
      "<class 'numpy.matrix'>\n"
     ]
    },
    {
     "data": {
      "text/plain": [
       "matrix([[ 1,  2,  3],\n",
       "        [ 4,  5,  6],\n",
       "        [ 7,  8,  9],\n",
       "        [12, 15, 13]])"
      ]
     },
     "execution_count": 97,
     "metadata": {},
     "output_type": "execute_result"
    }
   ],
   "source": [
    "m2 = m2.T\n",
    "\n",
    "v = np.vstack((m1,m2))\n",
    "print(type(v))\n",
    "v"
   ]
  },
  {
   "cell_type": "code",
   "execution_count": 98,
   "id": "ac00255d",
   "metadata": {},
   "outputs": [
    {
     "data": {
      "text/plain": [
       "matrix([[ 1,  2,  3,  7,  8,  9],\n",
       "        [ 4,  5,  6, 12, 15, 13]])"
      ]
     },
     "execution_count": 98,
     "metadata": {},
     "output_type": "execute_result"
    }
   ],
   "source": [
    "h = np.hstack((m1,m2))\n",
    "h"
   ]
  },
  {
   "cell_type": "code",
   "execution_count": 99,
   "id": "3da66242",
   "metadata": {},
   "outputs": [
    {
     "name": "stdout",
     "output_type": "stream",
     "text": [
      "[0 0 0 0 0]\n",
      "[1 1 1 1 1]\n"
     ]
    }
   ],
   "source": [
    "# example \n",
    "\n",
    "a_1 = np.zeros((5,),dtype = np.int16)\n",
    "\n",
    "a_2 = np.ones((5,),dtype = np.int16)\n",
    "\n",
    "print(a_1)\n",
    "print(a_2)"
   ]
  },
  {
   "cell_type": "code",
   "execution_count": 100,
   "id": "a386e934",
   "metadata": {},
   "outputs": [
    {
     "name": "stdout",
     "output_type": "stream",
     "text": [
      "<class 'numpy.ndarray'>\n"
     ]
    },
    {
     "data": {
      "text/plain": [
       "array([0, 0, 0, 0, 0, 1, 1, 1, 1, 1], dtype=int16)"
      ]
     },
     "execution_count": 100,
     "metadata": {},
     "output_type": "execute_result"
    }
   ],
   "source": [
    "h1 = np.hstack((a_1,a_2))\n",
    "print(type(h1))\n",
    "h1"
   ]
  },
  {
   "cell_type": "code",
   "execution_count": 101,
   "id": "27419da9",
   "metadata": {},
   "outputs": [
    {
     "data": {
      "text/plain": [
       "array([[0],\n",
       "       [0],\n",
       "       [0],\n",
       "       [0],\n",
       "       [0],\n",
       "       [1],\n",
       "       [1],\n",
       "       [1],\n",
       "       [1],\n",
       "       [1]], dtype=int16)"
      ]
     },
     "execution_count": 101,
     "metadata": {},
     "output_type": "execute_result"
    }
   ],
   "source": [
    "h1 = h1.reshape(-1,1)\n",
    "h1"
   ]
  },
  {
   "cell_type": "code",
   "execution_count": null,
   "id": "04142fda",
   "metadata": {},
   "outputs": [],
   "source": []
  }
 ],
 "metadata": {
  "kernelspec": {
   "display_name": "Python 3",
   "language": "python",
   "name": "python3"
  },
  "language_info": {
   "codemirror_mode": {
    "name": "ipython",
    "version": 3
   },
   "file_extension": ".py",
   "mimetype": "text/x-python",
   "name": "python",
   "nbconvert_exporter": "python",
   "pygments_lexer": "ipython3",
   "version": "3.8.4"
  }
 },
 "nbformat": 4,
 "nbformat_minor": 5
}
