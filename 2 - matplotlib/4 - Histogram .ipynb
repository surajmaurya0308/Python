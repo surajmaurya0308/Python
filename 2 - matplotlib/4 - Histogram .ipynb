{
 "cells": [
  {
   "cell_type": "code",
   "execution_count": 1,
   "id": "fcead8dc",
   "metadata": {},
   "outputs": [],
   "source": [
    "import matplotlib.pyplot as plt\n",
    "%matplotlib inline "
   ]
  },
  {
   "cell_type": "code",
   "execution_count": 3,
   "id": "6ac6ce57",
   "metadata": {},
   "outputs": [],
   "source": [
    "# create data \n",
    "\n",
    "import random\n",
    "\n",
    "age = [random.randint(10,99)for i in range(115)]\n",
    "\n",
    "\n"
   ]
  },
  {
   "cell_type": "code",
   "execution_count": 6,
   "id": "9a6156d9",
   "metadata": {},
   "outputs": [
    {
     "data": {
      "text/plain": [
       "(array([ 3.,  5.,  7.,  3.,  4., 11.,  5.,  4.,  5.,  9.,  3.,  4.,  8.,\n",
       "         4.,  5.,  3.,  9.,  9.,  9.,  5.]),\n",
       " array([11.  , 15.35, 19.7 , 24.05, 28.4 , 32.75, 37.1 , 41.45, 45.8 ,\n",
       "        50.15, 54.5 , 58.85, 63.2 , 67.55, 71.9 , 76.25, 80.6 , 84.95,\n",
       "        89.3 , 93.65, 98.  ]),\n",
       " <BarContainer object of 20 artists>)"
      ]
     },
     "execution_count": 6,
     "metadata": {},
     "output_type": "execute_result"
    },
    {
     "data": {
      "image/png": "[encoded data removed]",
      "text/plain": [
       "<Figure size 432x288 with 1 Axes>"
      ]
     },
     "metadata": {
      "needs_background": "light"
     },
     "output_type": "display_data"
    }
   ],
   "source": [
    "plt.xlabel(\"Age\")\n",
    "plt.ylabel(\"Number of peoples \")\n",
    "\n",
    "plt.hist(age , rwidth = 0.8 ,bins = 20)"
   ]
  },
  {
   "cell_type": "code",
   "execution_count": null,
   "id": "4b5596bb",
   "metadata": {},
   "outputs": [],
   "source": []
  }
 ],
 "metadata": {
  "kernelspec": {
   "display_name": "Python 3",
   "language": "python",
   "name": "python3"
  },
  "language_info": {
   "codemirror_mode": {
    "name": "ipython",
    "version": 3
   },
   "file_extension": ".py",
   "mimetype": "text/x-python",
   "name": "python",
   "nbconvert_exporter": "python",
   "pygments_lexer": "ipython3",
   "version": "3.8.4"
  }
 },
 "nbformat": 4,
 "nbformat_minor": 5
}
